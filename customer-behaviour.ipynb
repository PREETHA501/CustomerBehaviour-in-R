{
 "cells": [
  {
   "cell_type": "markdown",
   "id": "c00c1691",
   "metadata": {
    "papermill": {
     "duration": 0.020844,
     "end_time": "2021-04-25T12:52:52.646331",
     "exception": false,
     "start_time": "2021-04-25T12:52:52.625487",
     "status": "completed"
    },
    "tags": []
   },
   "source": [
    "**Predicting Customer Behaviour :**"
   ]
  },
  {
   "cell_type": "markdown",
   "id": "91b36710",
   "metadata": {
    "papermill": {
     "duration": 0.019792,
     "end_time": "2021-04-25T12:52:52.687439",
     "exception": false,
     "start_time": "2021-04-25T12:52:52.667647",
     "status": "completed"
    },
    "tags": []
   },
   "source": [
    "The data represents details about 400 clients of a company including the unique ID, the gender, the age of the customer and the salary. Besides this, we have collected information regarding the buying decision - weather the customer decided to buy specific products or not."
   ]
  },
  {
   "cell_type": "markdown",
   "id": "bb1916d7",
   "metadata": {
    "papermill": {
     "duration": 0.019698,
     "end_time": "2021-04-25T12:52:52.727125",
     "exception": false,
     "start_time": "2021-04-25T12:52:52.707427",
     "status": "completed"
    },
    "tags": []
   },
   "source": [
    "Using this dataset, we will use machine learning to develop a model that attempts to predict whether a customer will decide to buy the specific product or not."
   ]
  },
  {
   "cell_type": "markdown",
   "id": "c8c37b6f",
   "metadata": {
    "papermill": {
     "duration": 0.019857,
     "end_time": "2021-04-25T12:52:52.766656",
     "exception": false,
     "start_time": "2021-04-25T12:52:52.746799",
     "status": "completed"
    },
    "tags": []
   },
   "source": [
    "**Import required packages :**"
   ]
  },
  {
   "cell_type": "code",
   "execution_count": 1,
   "id": "366e001d",
   "metadata": {
    "execution": {
     "iopub.execute_input": "2021-04-25T12:52:52.814075Z",
     "iopub.status.busy": "2021-04-25T12:52:52.811348Z",
     "iopub.status.idle": "2021-04-25T12:52:57.422845Z",
     "shell.execute_reply": "2021-04-25T12:52:57.421285Z"
    },
    "papermill": {
     "duration": 4.636597,
     "end_time": "2021-04-25T12:52:57.423081",
     "exception": false,
     "start_time": "2021-04-25T12:52:52.786484",
     "status": "completed"
    },
    "tags": []
   },
   "outputs": [
    {
     "name": "stderr",
     "output_type": "stream",
     "text": [
      "\n",
      "Attaching package: ‘dplyr’\n",
      "\n",
      "\n",
      "The following objects are masked from ‘package:stats’:\n",
      "\n",
      "    filter, lag\n",
      "\n",
      "\n",
      "The following objects are masked from ‘package:base’:\n",
      "\n",
      "    intersect, setdiff, setequal, union\n",
      "\n",
      "\n",
      "── \u001b[1mAttaching packages\u001b[22m ─────────────────────────────────────── tidyverse 1.3.0 ──\n",
      "\n",
      "\u001b[32m✔\u001b[39m \u001b[34mggplot2\u001b[39m 3.3.3     \u001b[32m✔\u001b[39m \u001b[34mpurrr  \u001b[39m 0.3.4\n",
      "\u001b[32m✔\u001b[39m \u001b[34mtibble \u001b[39m 3.1.1     \u001b[32m✔\u001b[39m \u001b[34mstringr\u001b[39m 1.4.0\n",
      "\u001b[32m✔\u001b[39m \u001b[34mtidyr  \u001b[39m 1.1.3     \u001b[32m✔\u001b[39m \u001b[34mforcats\u001b[39m 0.5.0\n",
      "\u001b[32m✔\u001b[39m \u001b[34mreadr  \u001b[39m 1.4.0     \n",
      "\n",
      "── \u001b[1mConflicts\u001b[22m ────────────────────────────────────────── tidyverse_conflicts() ──\n",
      "\u001b[31m✖\u001b[39m \u001b[34mdplyr\u001b[39m::\u001b[32mfilter()\u001b[39m masks \u001b[34mstats\u001b[39m::filter()\n",
      "\u001b[31m✖\u001b[39m \u001b[34mdplyr\u001b[39m::\u001b[32mlag()\u001b[39m    masks \u001b[34mstats\u001b[39m::lag()\n",
      "\n",
      "Loading required package: lattice\n",
      "\n",
      "\n",
      "Attaching package: ‘caret’\n",
      "\n",
      "\n",
      "The following object is masked from ‘package:purrr’:\n",
      "\n",
      "    lift\n",
      "\n",
      "\n",
      "The following object is masked from ‘package:httr’:\n",
      "\n",
      "    progress\n",
      "\n",
      "\n",
      "Loading required package: tigerstats\n",
      "\n",
      "Loading required package: abd\n",
      "\n",
      "Loading required package: nlme\n",
      "\n",
      "\n",
      "Attaching package: ‘nlme’\n",
      "\n",
      "\n",
      "The following object is masked from ‘package:dplyr’:\n",
      "\n",
      "    collapse\n",
      "\n",
      "\n",
      "Loading required package: grid\n",
      "\n",
      "Loading required package: mosaic\n",
      "\n",
      "Loading required package: ggformula\n",
      "\n",
      "Loading required package: ggstance\n",
      "\n",
      "\n",
      "Attaching package: ‘ggstance’\n",
      "\n",
      "\n",
      "The following objects are masked from ‘package:ggplot2’:\n",
      "\n",
      "    geom_errorbarh, GeomErrorbarh\n",
      "\n",
      "\n",
      "\n",
      "New to ggformula?  Try the tutorials: \n",
      "\tlearnr::run_tutorial(\"introduction\", package = \"ggformula\")\n",
      "\tlearnr::run_tutorial(\"refining\", package = \"ggformula\")\n",
      "\n",
      "Loading required package: mosaicData\n",
      "\n",
      "Loading required package: Matrix\n",
      "\n",
      "\n",
      "Attaching package: ‘Matrix’\n",
      "\n",
      "\n",
      "The following objects are masked from ‘package:tidyr’:\n",
      "\n",
      "    expand, pack, unpack\n",
      "\n",
      "\n",
      "Registered S3 method overwritten by 'mosaic':\n",
      "  method                           from   \n",
      "  fortify.SpatialPolygonsDataFrame ggplot2\n",
      "\n",
      "\n",
      "The 'mosaic' package masks several functions from core packages in order to add \n",
      "additional features.  The original behavior of these functions should not be affected by this.\n",
      "\n",
      "Note: If you use the Matrix package, be sure to load it BEFORE loading mosaic.\n",
      "\n",
      "Have you tried the ggformula package for your plots?\n",
      "\n",
      "\n",
      "Attaching package: ‘mosaic’\n",
      "\n",
      "\n",
      "The following object is masked from ‘package:Matrix’:\n",
      "\n",
      "    mean\n",
      "\n",
      "\n",
      "The following object is masked from ‘package:caret’:\n",
      "\n",
      "    dotPlot\n",
      "\n",
      "\n",
      "The following object is masked from ‘package:purrr’:\n",
      "\n",
      "    cross\n",
      "\n",
      "\n",
      "The following object is masked from ‘package:ggplot2’:\n",
      "\n",
      "    stat\n",
      "\n",
      "\n",
      "The following objects are masked from ‘package:dplyr’:\n",
      "\n",
      "    count, do, tally\n",
      "\n",
      "\n",
      "The following objects are masked from ‘package:stats’:\n",
      "\n",
      "    binom.test, cor, cor.test, cov, fivenum, IQR, median, prop.test,\n",
      "    quantile, sd, t.test, var\n",
      "\n",
      "\n",
      "The following objects are masked from ‘package:base’:\n",
      "\n",
      "    max, mean, min, prod, range, sample, sum\n",
      "\n",
      "\n",
      "Welcome to tigerstats!\n",
      "To learn more about this package, consult its website:\n",
      "\thttp://homerhanumat.github.io/tigerstats\n",
      "\n",
      "corrplot 0.84 loaded\n",
      "\n",
      "Loading required package: caTools\n",
      "\n",
      "------------------------------------------------------------------------------\n",
      "\n",
      "You have loaded plyr after dplyr - this is likely to cause problems.\n",
      "If you need functions from both plyr and dplyr, please load plyr first, then dplyr:\n",
      "library(plyr); library(dplyr)\n",
      "\n",
      "------------------------------------------------------------------------------\n",
      "\n",
      "\n",
      "Attaching package: ‘plyr’\n",
      "\n",
      "\n",
      "The following object is masked from ‘package:mosaic’:\n",
      "\n",
      "    count\n",
      "\n",
      "\n",
      "The following object is masked from ‘package:purrr’:\n",
      "\n",
      "    compact\n",
      "\n",
      "\n",
      "The following objects are masked from ‘package:dplyr’:\n",
      "\n",
      "    arrange, count, desc, failwith, id, mutate, rename, summarise,\n",
      "    summarize\n",
      "\n",
      "\n"
     ]
    }
   ],
   "source": [
    "library(rpart)\n",
    "library(rpart.plot)\n",
    "library(dplyr)\n",
    "library(tidyverse)\n",
    "library(caret)\n",
    "library(ggplot2)\n",
    "theme_set(theme_bw())\n",
    "require(tigerstats)\n",
    "library(corrplot)\n",
    "library(DataExplorer)\n",
    "require(caTools)\n",
    "library(plyr)"
   ]
  },
  {
   "cell_type": "markdown",
   "id": "1a56c0bd",
   "metadata": {
    "papermill": {
     "duration": 0.033652,
     "end_time": "2021-04-25T12:52:57.492518",
     "exception": false,
     "start_time": "2021-04-25T12:52:57.458866",
     "status": "completed"
    },
    "tags": []
   },
   "source": [
    "**Import the dataset (Customer_Behaviour) :**"
   ]
  },
  {
   "cell_type": "code",
   "execution_count": 2,
   "id": "caac1398",
   "metadata": {
    "execution": {
     "iopub.execute_input": "2021-04-25T12:52:57.595332Z",
     "iopub.status.busy": "2021-04-25T12:52:57.564167Z",
     "iopub.status.idle": "2021-04-25T12:52:57.784675Z",
     "shell.execute_reply": "2021-04-25T12:52:57.783788Z"
    },
    "papermill": {
     "duration": 0.259051,
     "end_time": "2021-04-25T12:52:57.784831",
     "exception": false,
     "start_time": "2021-04-25T12:52:57.525780",
     "status": "completed"
    },
    "tags": []
   },
   "outputs": [],
   "source": [
    "data <- read.csv(file =\"../input/customer-behaviour/Customer_Behaviour.csv\") "
   ]
  },
  {
   "cell_type": "markdown",
   "id": "f210be94",
   "metadata": {
    "papermill": {
     "duration": 0.034636,
     "end_time": "2021-04-25T12:52:57.854116",
     "exception": false,
     "start_time": "2021-04-25T12:52:57.819480",
     "status": "completed"
    },
    "tags": []
   },
   "source": [
    "**Dimentions of dataset :**"
   ]
  },
  {
   "cell_type": "code",
   "execution_count": 3,
   "id": "ea3f8688",
   "metadata": {
    "execution": {
     "iopub.execute_input": "2021-04-25T12:52:57.926690Z",
     "iopub.status.busy": "2021-04-25T12:52:57.925153Z",
     "iopub.status.idle": "2021-04-25T12:52:57.943054Z",
     "shell.execute_reply": "2021-04-25T12:52:57.941807Z"
    },
    "papermill": {
     "duration": 0.055337,
     "end_time": "2021-04-25T12:52:57.943200",
     "exception": false,
     "start_time": "2021-04-25T12:52:57.887863",
     "status": "completed"
    },
    "tags": []
   },
   "outputs": [
    {
     "data": {
      "text/html": [
       "<style>\n",
       ".list-inline {list-style: none; margin:0; padding: 0}\n",
       ".list-inline>li {display: inline-block}\n",
       ".list-inline>li:not(:last-child)::after {content: \"\\00b7\"; padding: 0 .5ex}\n",
       "</style>\n",
       "<ol class=list-inline><li>400</li><li>5</li></ol>\n"
      ],
      "text/latex": [
       "\\begin{enumerate*}\n",
       "\\item 400\n",
       "\\item 5\n",
       "\\end{enumerate*}\n"
      ],
      "text/markdown": [
       "1. 400\n",
       "2. 5\n",
       "\n",
       "\n"
      ],
      "text/plain": [
       "[1] 400   5"
      ]
     },
     "metadata": {},
     "output_type": "display_data"
    }
   ],
   "source": [
    "dim(data)"
   ]
  },
  {
   "cell_type": "markdown",
   "id": "62c065a1",
   "metadata": {
    "papermill": {
     "duration": 0.035408,
     "end_time": "2021-04-25T12:52:58.013065",
     "exception": false,
     "start_time": "2021-04-25T12:52:57.977657",
     "status": "completed"
    },
    "tags": []
   },
   "source": [
    "**Quick glance at the data :**"
   ]
  },
  {
   "cell_type": "code",
   "execution_count": 4,
   "id": "d39f1d18",
   "metadata": {
    "execution": {
     "iopub.execute_input": "2021-04-25T12:52:58.088896Z",
     "iopub.status.busy": "2021-04-25T12:52:58.086196Z",
     "iopub.status.idle": "2021-04-25T12:52:58.128452Z",
     "shell.execute_reply": "2021-04-25T12:52:58.126842Z"
    },
    "papermill": {
     "duration": 0.080982,
     "end_time": "2021-04-25T12:52:58.128623",
     "exception": false,
     "start_time": "2021-04-25T12:52:58.047641",
     "status": "completed"
    },
    "tags": []
   },
   "outputs": [
    {
     "name": "stdout",
     "output_type": "stream",
     "text": [
      "'data.frame':\t400 obs. of  5 variables:\n",
      " $ User.ID        : int  15624510 15810944 15668575 15603246 15804002 15728773 15598044 15694829 15600575 15727311 ...\n",
      " $ Gender         : Factor w/ 2 levels \"Female\",\"Male\": 2 2 1 1 2 2 1 1 2 1 ...\n",
      " $ Age            : int  19 35 26 27 19 27 27 32 25 35 ...\n",
      " $ EstimatedSalary: int  19000 20000 43000 57000 76000 58000 84000 150000 33000 65000 ...\n",
      " $ Purchased      : int  0 0 0 0 0 0 0 1 0 0 ...\n"
     ]
    },
    {
     "data": {
      "text/html": [
       "<table class=\"dataframe\">\n",
       "<caption>A data.frame: 6 × 5</caption>\n",
       "<thead>\n",
       "\t<tr><th></th><th scope=col>User.ID</th><th scope=col>Gender</th><th scope=col>Age</th><th scope=col>EstimatedSalary</th><th scope=col>Purchased</th></tr>\n",
       "\t<tr><th></th><th scope=col>&lt;int&gt;</th><th scope=col>&lt;fct&gt;</th><th scope=col>&lt;int&gt;</th><th scope=col>&lt;int&gt;</th><th scope=col>&lt;int&gt;</th></tr>\n",
       "</thead>\n",
       "<tbody>\n",
       "\t<tr><th scope=row>1</th><td>15624510</td><td>Male  </td><td>19</td><td>19000</td><td>0</td></tr>\n",
       "\t<tr><th scope=row>2</th><td>15810944</td><td>Male  </td><td>35</td><td>20000</td><td>0</td></tr>\n",
       "\t<tr><th scope=row>3</th><td>15668575</td><td>Female</td><td>26</td><td>43000</td><td>0</td></tr>\n",
       "\t<tr><th scope=row>4</th><td>15603246</td><td>Female</td><td>27</td><td>57000</td><td>0</td></tr>\n",
       "\t<tr><th scope=row>5</th><td>15804002</td><td>Male  </td><td>19</td><td>76000</td><td>0</td></tr>\n",
       "\t<tr><th scope=row>6</th><td>15728773</td><td>Male  </td><td>27</td><td>58000</td><td>0</td></tr>\n",
       "</tbody>\n",
       "</table>\n"
      ],
      "text/latex": [
       "A data.frame: 6 × 5\n",
       "\\begin{tabular}{r|lllll}\n",
       "  & User.ID & Gender & Age & EstimatedSalary & Purchased\\\\\n",
       "  & <int> & <fct> & <int> & <int> & <int>\\\\\n",
       "\\hline\n",
       "\t1 & 15624510 & Male   & 19 & 19000 & 0\\\\\n",
       "\t2 & 15810944 & Male   & 35 & 20000 & 0\\\\\n",
       "\t3 & 15668575 & Female & 26 & 43000 & 0\\\\\n",
       "\t4 & 15603246 & Female & 27 & 57000 & 0\\\\\n",
       "\t5 & 15804002 & Male   & 19 & 76000 & 0\\\\\n",
       "\t6 & 15728773 & Male   & 27 & 58000 & 0\\\\\n",
       "\\end{tabular}\n"
      ],
      "text/markdown": [
       "\n",
       "A data.frame: 6 × 5\n",
       "\n",
       "| <!--/--> | User.ID &lt;int&gt; | Gender &lt;fct&gt; | Age &lt;int&gt; | EstimatedSalary &lt;int&gt; | Purchased &lt;int&gt; |\n",
       "|---|---|---|---|---|---|\n",
       "| 1 | 15624510 | Male   | 19 | 19000 | 0 |\n",
       "| 2 | 15810944 | Male   | 35 | 20000 | 0 |\n",
       "| 3 | 15668575 | Female | 26 | 43000 | 0 |\n",
       "| 4 | 15603246 | Female | 27 | 57000 | 0 |\n",
       "| 5 | 15804002 | Male   | 19 | 76000 | 0 |\n",
       "| 6 | 15728773 | Male   | 27 | 58000 | 0 |\n",
       "\n"
      ],
      "text/plain": [
       "  User.ID  Gender Age EstimatedSalary Purchased\n",
       "1 15624510 Male   19  19000           0        \n",
       "2 15810944 Male   35  20000           0        \n",
       "3 15668575 Female 26  43000           0        \n",
       "4 15603246 Female 27  57000           0        \n",
       "5 15804002 Male   19  76000           0        \n",
       "6 15728773 Male   27  58000           0        "
      ]
     },
     "metadata": {},
     "output_type": "display_data"
    }
   ],
   "source": [
    "str(data)\n",
    "head(data)"
   ]
  },
  {
   "cell_type": "markdown",
   "id": "fe204ccd",
   "metadata": {
    "papermill": {
     "duration": 0.03713,
     "end_time": "2021-04-25T12:52:58.204129",
     "exception": false,
     "start_time": "2021-04-25T12:52:58.166999",
     "status": "completed"
    },
    "tags": []
   },
   "source": [
    "**Checking for missing values :**"
   ]
  },
  {
   "cell_type": "code",
   "execution_count": 5,
   "id": "8ad22b03",
   "metadata": {
    "execution": {
     "iopub.execute_input": "2021-04-25T12:52:58.280964Z",
     "iopub.status.busy": "2021-04-25T12:52:58.279326Z",
     "iopub.status.idle": "2021-04-25T12:52:58.296790Z",
     "shell.execute_reply": "2021-04-25T12:52:58.295305Z"
    },
    "papermill": {
     "duration": 0.057222,
     "end_time": "2021-04-25T12:52:58.296947",
     "exception": false,
     "start_time": "2021-04-25T12:52:58.239725",
     "status": "completed"
    },
    "tags": []
   },
   "outputs": [
    {
     "data": {
      "text/html": [
       "0"
      ],
      "text/latex": [
       "0"
      ],
      "text/markdown": [
       "0"
      ],
      "text/plain": [
       "[1] 0"
      ]
     },
     "metadata": {},
     "output_type": "display_data"
    }
   ],
   "source": [
    "sum(is.na(data))"
   ]
  },
  {
   "cell_type": "markdown",
   "id": "79e8c734",
   "metadata": {
    "papermill": {
     "duration": 0.03623,
     "end_time": "2021-04-25T12:52:58.369872",
     "exception": false,
     "start_time": "2021-04-25T12:52:58.333642",
     "status": "completed"
    },
    "tags": []
   },
   "source": [
    "**INFERENCE :** No (NA/NULL)values in our dataset."
   ]
  },
  {
   "cell_type": "markdown",
   "id": "1a96d5bc",
   "metadata": {
    "papermill": {
     "duration": 0.036144,
     "end_time": "2021-04-25T12:52:58.442256",
     "exception": false,
     "start_time": "2021-04-25T12:52:58.406112",
     "status": "completed"
    },
    "tags": []
   },
   "source": [
    "**Transforming Male & Female values to 0 and 1 :**"
   ]
  },
  {
   "cell_type": "code",
   "execution_count": 6,
   "id": "89f456ea",
   "metadata": {
    "execution": {
     "iopub.execute_input": "2021-04-25T12:52:58.520011Z",
     "iopub.status.busy": "2021-04-25T12:52:58.518697Z",
     "iopub.status.idle": "2021-04-25T12:52:58.541185Z",
     "shell.execute_reply": "2021-04-25T12:52:58.539925Z"
    },
    "papermill": {
     "duration": 0.062909,
     "end_time": "2021-04-25T12:52:58.541339",
     "exception": false,
     "start_time": "2021-04-25T12:52:58.478430",
     "status": "completed"
    },
    "tags": []
   },
   "outputs": [
    {
     "data": {
      "text/html": [
       "<style>\n",
       ".list-inline {list-style: none; margin:0; padding: 0}\n",
       ".list-inline>li {display: inline-block}\n",
       ".list-inline>li:not(:last-child)::after {content: \"\\00b7\"; padding: 0 .5ex}\n",
       "</style>\n",
       "<ol class=list-inline><li>0</li><li>0</li><li>1</li><li>1</li><li>0</li><li>0</li></ol>\n",
       "\n",
       "<details>\n",
       "\t<summary style=display:list-item;cursor:pointer>\n",
       "\t\t<strong>Levels</strong>:\n",
       "\t</summary>\n",
       "\t<style>\n",
       "\t.list-inline {list-style: none; margin:0; padding: 0}\n",
       "\t.list-inline>li {display: inline-block}\n",
       "\t.list-inline>li:not(:last-child)::after {content: \"\\00b7\"; padding: 0 .5ex}\n",
       "\t</style>\n",
       "\t<ol class=list-inline><li>'1'</li><li>'0'</li></ol>\n",
       "</details>"
      ],
      "text/latex": [
       "\\begin{enumerate*}\n",
       "\\item 0\n",
       "\\item 0\n",
       "\\item 1\n",
       "\\item 1\n",
       "\\item 0\n",
       "\\item 0\n",
       "\\end{enumerate*}\n",
       "\n",
       "\\emph{Levels}: \\begin{enumerate*}\n",
       "\\item '1'\n",
       "\\item '0'\n",
       "\\end{enumerate*}\n"
      ],
      "text/markdown": [
       "1. 0\n",
       "2. 0\n",
       "3. 1\n",
       "4. 1\n",
       "5. 0\n",
       "6. 0\n",
       "\n",
       "\n",
       "\n",
       "**Levels**: 1. '1'\n",
       "2. '0'\n",
       "\n",
       "\n"
      ],
      "text/plain": [
       "[1] 0 0 1 1 0 0\n",
       "Levels: 1 0"
      ]
     },
     "metadata": {},
     "output_type": "display_data"
    }
   ],
   "source": [
    "data$Gender <- revalue(data$Gender, c(\"Female\"=1))\n",
    "data$Gender <- revalue(data$Gender, c(\"Male\"=0))\n",
    "head(data$Gender)"
   ]
  },
  {
   "cell_type": "markdown",
   "id": "86c24c95",
   "metadata": {
    "papermill": {
     "duration": 0.036764,
     "end_time": "2021-04-25T12:52:58.616388",
     "exception": false,
     "start_time": "2021-04-25T12:52:58.579624",
     "status": "completed"
    },
    "tags": []
   },
   "source": [
    "**Converting char to numeric :**"
   ]
  },
  {
   "cell_type": "code",
   "execution_count": 7,
   "id": "1b9a1365",
   "metadata": {
    "execution": {
     "iopub.execute_input": "2021-04-25T12:52:58.695789Z",
     "iopub.status.busy": "2021-04-25T12:52:58.694503Z",
     "iopub.status.idle": "2021-04-25T12:52:58.709586Z",
     "shell.execute_reply": "2021-04-25T12:52:58.707792Z"
    },
    "papermill": {
     "duration": 0.056196,
     "end_time": "2021-04-25T12:52:58.709759",
     "exception": false,
     "start_time": "2021-04-25T12:52:58.653563",
     "status": "completed"
    },
    "tags": []
   },
   "outputs": [],
   "source": [
    "data$Gender = as.numeric(data$Gender)"
   ]
  },
  {
   "cell_type": "code",
   "execution_count": 8,
   "id": "3e5b5cde",
   "metadata": {
    "execution": {
     "iopub.execute_input": "2021-04-25T12:52:58.791103Z",
     "iopub.status.busy": "2021-04-25T12:52:58.789094Z",
     "iopub.status.idle": "2021-04-25T12:52:58.822715Z",
     "shell.execute_reply": "2021-04-25T12:52:58.821565Z"
    },
    "papermill": {
     "duration": 0.075828,
     "end_time": "2021-04-25T12:52:58.822913",
     "exception": false,
     "start_time": "2021-04-25T12:52:58.747085",
     "status": "completed"
    },
    "tags": []
   },
   "outputs": [
    {
     "name": "stdout",
     "output_type": "stream",
     "text": [
      "Rows: 400\n",
      "Columns: 5\n",
      "$ User.ID         \u001b[3m\u001b[90m<int>\u001b[39m\u001b[23m 15624510, 15810944, 15668575, 15603246, 15804002, 1572…\n",
      "$ Gender          \u001b[3m\u001b[90m<dbl>\u001b[39m\u001b[23m 2, 2, 1, 1, 2, 2, 1, 1, 2, 1, 1, 1, 2, 2, 2, 2, 2, 2, …\n",
      "$ Age             \u001b[3m\u001b[90m<int>\u001b[39m\u001b[23m 19, 35, 26, 27, 19, 27, 27, 32, 25, 35, 26, 26, 20, 32…\n",
      "$ EstimatedSalary \u001b[3m\u001b[90m<int>\u001b[39m\u001b[23m 19000, 20000, 43000, 57000, 76000, 58000, 84000, 15000…\n",
      "$ Purchased       \u001b[3m\u001b[90m<int>\u001b[39m\u001b[23m 0, 0, 0, 0, 0, 0, 0, 1, 0, 0, 0, 0, 0, 0, 0, 0, 1, 1, …\n"
     ]
    }
   ],
   "source": [
    "glimpse(data)"
   ]
  },
  {
   "cell_type": "markdown",
   "id": "6e3002f1",
   "metadata": {
    "papermill": {
     "duration": 0.037148,
     "end_time": "2021-04-25T12:52:58.898065",
     "exception": false,
     "start_time": "2021-04-25T12:52:58.860917",
     "status": "completed"
    },
    "tags": []
   },
   "source": [
    "**Choosing dependent(Y) and independent(X) variables :**"
   ]
  },
  {
   "cell_type": "code",
   "execution_count": 9,
   "id": "c3d0be31",
   "metadata": {
    "execution": {
     "iopub.execute_input": "2021-04-25T12:52:58.979388Z",
     "iopub.status.busy": "2021-04-25T12:52:58.977962Z",
     "iopub.status.idle": "2021-04-25T12:52:59.001619Z",
     "shell.execute_reply": "2021-04-25T12:52:59.000050Z"
    },
    "papermill": {
     "duration": 0.065502,
     "end_time": "2021-04-25T12:52:59.001816",
     "exception": false,
     "start_time": "2021-04-25T12:52:58.936314",
     "status": "completed"
    },
    "tags": []
   },
   "outputs": [
    {
     "data": {
      "text/html": [
       "<table class=\"dataframe\">\n",
       "<caption>A matrix: 4 × 4 of type dbl</caption>\n",
       "<thead>\n",
       "\t<tr><th></th><th scope=col>Gender</th><th scope=col>Age</th><th scope=col>EstimatedSalary</th><th scope=col>Purchased</th></tr>\n",
       "</thead>\n",
       "<tbody>\n",
       "\t<tr><th scope=row>Gender</th><td> 1.00000000</td><td>-0.07374133</td><td>-0.06043469</td><td>-0.04246946</td></tr>\n",
       "\t<tr><th scope=row>Age</th><td>-0.07374133</td><td> 1.00000000</td><td> 0.15523802</td><td> 0.62245420</td></tr>\n",
       "\t<tr><th scope=row>EstimatedSalary</th><td>-0.06043469</td><td> 0.15523802</td><td> 1.00000000</td><td> 0.36208303</td></tr>\n",
       "\t<tr><th scope=row>Purchased</th><td>-0.04246946</td><td> 0.62245420</td><td> 0.36208303</td><td> 1.00000000</td></tr>\n",
       "</tbody>\n",
       "</table>\n"
      ],
      "text/latex": [
       "A matrix: 4 × 4 of type dbl\n",
       "\\begin{tabular}{r|llll}\n",
       "  & Gender & Age & EstimatedSalary & Purchased\\\\\n",
       "\\hline\n",
       "\tGender &  1.00000000 & -0.07374133 & -0.06043469 & -0.04246946\\\\\n",
       "\tAge & -0.07374133 &  1.00000000 &  0.15523802 &  0.62245420\\\\\n",
       "\tEstimatedSalary & -0.06043469 &  0.15523802 &  1.00000000 &  0.36208303\\\\\n",
       "\tPurchased & -0.04246946 &  0.62245420 &  0.36208303 &  1.00000000\\\\\n",
       "\\end{tabular}\n"
      ],
      "text/markdown": [
       "\n",
       "A matrix: 4 × 4 of type dbl\n",
       "\n",
       "| <!--/--> | Gender | Age | EstimatedSalary | Purchased |\n",
       "|---|---|---|---|---|\n",
       "| Gender |  1.00000000 | -0.07374133 | -0.06043469 | -0.04246946 |\n",
       "| Age | -0.07374133 |  1.00000000 |  0.15523802 |  0.62245420 |\n",
       "| EstimatedSalary | -0.06043469 |  0.15523802 |  1.00000000 |  0.36208303 |\n",
       "| Purchased | -0.04246946 |  0.62245420 |  0.36208303 |  1.00000000 |\n",
       "\n"
      ],
      "text/plain": [
       "                Gender      Age         EstimatedSalary Purchased  \n",
       "Gender           1.00000000 -0.07374133 -0.06043469     -0.04246946\n",
       "Age             -0.07374133  1.00000000  0.15523802      0.62245420\n",
       "EstimatedSalary -0.06043469  0.15523802  1.00000000      0.36208303\n",
       "Purchased       -0.04246946  0.62245420  0.36208303      1.00000000"
      ]
     },
     "metadata": {},
     "output_type": "display_data"
    }
   ],
   "source": [
    "correlation <- cor(x=data[,(2:5)], method = \"pearson\")\n",
    "correlation"
   ]
  },
  {
   "cell_type": "markdown",
   "id": "d745896b",
   "metadata": {
    "papermill": {
     "duration": 0.038753,
     "end_time": "2021-04-25T12:52:59.080331",
     "exception": false,
     "start_time": "2021-04-25T12:52:59.041578",
     "status": "completed"
    },
    "tags": []
   },
   "source": [
    "**INFERENCE :** The independent variables(x) are only correlated with the dependent variable(y).Here, we can see that these Age, and EstimatedSalary are highly correlated with sales variable by having these respective R values(0.62245420,0.36208303).\n"
   ]
  },
  {
   "cell_type": "markdown",
   "id": "55804cf5",
   "metadata": {
    "papermill": {
     "duration": 0.038195,
     "end_time": "2021-04-25T12:52:59.157177",
     "exception": false,
     "start_time": "2021-04-25T12:52:59.118982",
     "status": "completed"
    },
    "tags": []
   },
   "source": [
    "**Split the data into train data and test data :**"
   ]
  },
  {
   "cell_type": "code",
   "execution_count": 10,
   "id": "8afa5262",
   "metadata": {
    "execution": {
     "iopub.execute_input": "2021-04-25T12:52:59.239458Z",
     "iopub.status.busy": "2021-04-25T12:52:59.238099Z",
     "iopub.status.idle": "2021-04-25T12:52:59.273561Z",
     "shell.execute_reply": "2021-04-25T12:52:59.271970Z"
    },
    "papermill": {
     "duration": 0.078024,
     "end_time": "2021-04-25T12:52:59.273712",
     "exception": false,
     "start_time": "2021-04-25T12:52:59.195688",
     "status": "completed"
    },
    "tags": []
   },
   "outputs": [
    {
     "data": {
      "text/html": [
       "<table class=\"dataframe\">\n",
       "<caption>A data.frame: 6 × 5</caption>\n",
       "<thead>\n",
       "\t<tr><th></th><th scope=col>User.ID</th><th scope=col>Gender</th><th scope=col>Age</th><th scope=col>EstimatedSalary</th><th scope=col>Purchased</th></tr>\n",
       "\t<tr><th></th><th scope=col>&lt;int&gt;</th><th scope=col>&lt;dbl&gt;</th><th scope=col>&lt;int&gt;</th><th scope=col>&lt;int&gt;</th><th scope=col>&lt;int&gt;</th></tr>\n",
       "</thead>\n",
       "<tbody>\n",
       "\t<tr><th scope=row>2</th><td>15810944</td><td>2</td><td>35</td><td> 20000</td><td>0</td></tr>\n",
       "\t<tr><th scope=row>4</th><td>15603246</td><td>1</td><td>27</td><td> 57000</td><td>0</td></tr>\n",
       "\t<tr><th scope=row>5</th><td>15804002</td><td>2</td><td>19</td><td> 76000</td><td>0</td></tr>\n",
       "\t<tr><th scope=row>7</th><td>15598044</td><td>1</td><td>27</td><td> 84000</td><td>0</td></tr>\n",
       "\t<tr><th scope=row>8</th><td>15694829</td><td>1</td><td>32</td><td>150000</td><td>1</td></tr>\n",
       "\t<tr><th scope=row>9</th><td>15600575</td><td>2</td><td>25</td><td> 33000</td><td>0</td></tr>\n",
       "</tbody>\n",
       "</table>\n"
      ],
      "text/latex": [
       "A data.frame: 6 × 5\n",
       "\\begin{tabular}{r|lllll}\n",
       "  & User.ID & Gender & Age & EstimatedSalary & Purchased\\\\\n",
       "  & <int> & <dbl> & <int> & <int> & <int>\\\\\n",
       "\\hline\n",
       "\t2 & 15810944 & 2 & 35 &  20000 & 0\\\\\n",
       "\t4 & 15603246 & 1 & 27 &  57000 & 0\\\\\n",
       "\t5 & 15804002 & 2 & 19 &  76000 & 0\\\\\n",
       "\t7 & 15598044 & 1 & 27 &  84000 & 0\\\\\n",
       "\t8 & 15694829 & 1 & 32 & 150000 & 1\\\\\n",
       "\t9 & 15600575 & 2 & 25 &  33000 & 0\\\\\n",
       "\\end{tabular}\n"
      ],
      "text/markdown": [
       "\n",
       "A data.frame: 6 × 5\n",
       "\n",
       "| <!--/--> | User.ID &lt;int&gt; | Gender &lt;dbl&gt; | Age &lt;int&gt; | EstimatedSalary &lt;int&gt; | Purchased &lt;int&gt; |\n",
       "|---|---|---|---|---|---|\n",
       "| 2 | 15810944 | 2 | 35 |  20000 | 0 |\n",
       "| 4 | 15603246 | 1 | 27 |  57000 | 0 |\n",
       "| 5 | 15804002 | 2 | 19 |  76000 | 0 |\n",
       "| 7 | 15598044 | 1 | 27 |  84000 | 0 |\n",
       "| 8 | 15694829 | 1 | 32 | 150000 | 1 |\n",
       "| 9 | 15600575 | 2 | 25 |  33000 | 0 |\n",
       "\n"
      ],
      "text/plain": [
       "  User.ID  Gender Age EstimatedSalary Purchased\n",
       "2 15810944 2      35   20000          0        \n",
       "4 15603246 1      27   57000          0        \n",
       "5 15804002 2      19   76000          0        \n",
       "7 15598044 1      27   84000          0        \n",
       "8 15694829 1      32  150000          1        \n",
       "9 15600575 2      25   33000          0        "
      ]
     },
     "metadata": {},
     "output_type": "display_data"
    }
   ],
   "source": [
    "set.seed(123)\n",
    "training.samples <- data$Purchased %>%\n",
    " createDataPartition(p = 0.8, list = FALSE)\n",
    "train.data <- data[training.samples, ]\n",
    "test.data <- data[-training.samples, ]\n",
    "head(train.data)"
   ]
  },
  {
   "cell_type": "markdown",
   "id": "f7fa47a6",
   "metadata": {
    "papermill": {
     "duration": 0.039268,
     "end_time": "2021-04-25T12:52:59.352712",
     "exception": false,
     "start_time": "2021-04-25T12:52:59.313444",
     "status": "completed"
    },
    "tags": []
   },
   "source": [
    "**Function prop.table() combined with table() to verify if the randomization process is correct**\n"
   ]
  },
  {
   "cell_type": "code",
   "execution_count": 11,
   "id": "481f8b83",
   "metadata": {
    "execution": {
     "iopub.execute_input": "2021-04-25T12:52:59.436012Z",
     "iopub.status.busy": "2021-04-25T12:52:59.434625Z",
     "iopub.status.idle": "2021-04-25T12:52:59.451790Z",
     "shell.execute_reply": "2021-04-25T12:52:59.450459Z"
    },
    "papermill": {
     "duration": 0.06013,
     "end_time": "2021-04-25T12:52:59.451934",
     "exception": false,
     "start_time": "2021-04-25T12:52:59.391804",
     "status": "completed"
    },
    "tags": []
   },
   "outputs": [
    {
     "data": {
      "text/plain": [
       "\n",
       "       0        1 \n",
       "0.621875 0.378125 "
      ]
     },
     "metadata": {},
     "output_type": "display_data"
    }
   ],
   "source": [
    "prop.table(table(train.data$Purchased))"
   ]
  },
  {
   "cell_type": "code",
   "execution_count": 12,
   "id": "738fb8a1",
   "metadata": {
    "execution": {
     "iopub.execute_input": "2021-04-25T12:52:59.536261Z",
     "iopub.status.busy": "2021-04-25T12:52:59.534850Z",
     "iopub.status.idle": "2021-04-25T12:52:59.557994Z",
     "shell.execute_reply": "2021-04-25T12:52:59.555614Z"
    },
    "papermill": {
     "duration": 0.06682,
     "end_time": "2021-04-25T12:52:59.558424",
     "exception": false,
     "start_time": "2021-04-25T12:52:59.491604",
     "status": "completed"
    },
    "tags": []
   },
   "outputs": [
    {
     "data": {
      "text/plain": [
       "\n",
       "    0     1 \n",
       "0.725 0.275 "
      ]
     },
     "metadata": {},
     "output_type": "display_data"
    }
   ],
   "source": [
    "prop.table(table(test.data$Purchased))"
   ]
  },
  {
   "cell_type": "markdown",
   "id": "01683ab5",
   "metadata": {
    "papermill": {
     "duration": 0.040072,
     "end_time": "2021-04-25T12:52:59.640817",
     "exception": false,
     "start_time": "2021-04-25T12:52:59.600745",
     "status": "completed"
    },
    "tags": []
   },
   "source": [
    "**Build the Decision Tree model :**"
   ]
  },
  {
   "cell_type": "code",
   "execution_count": 13,
   "id": "d049f393",
   "metadata": {
    "execution": {
     "iopub.execute_input": "2021-04-25T12:52:59.726818Z",
     "iopub.status.busy": "2021-04-25T12:52:59.725465Z",
     "iopub.status.idle": "2021-04-25T12:53:00.446258Z",
     "shell.execute_reply": "2021-04-25T12:53:00.445614Z"
    },
    "papermill": {
     "duration": 0.765244,
     "end_time": "2021-04-25T12:53:00.446418",
     "exception": false,
     "start_time": "2021-04-25T12:52:59.681174",
     "status": "completed"
    },
    "tags": []
   },
   "outputs": [
    {
     "data": {
      "image/png": "[encoded data removed]"
     },
     "metadata": {
      "image/png": {
       "height": 420,
       "width": 420
      }
     },
     "output_type": "display_data"
    },
    {
     "data": {
      "image/png": "[encoded data removed]"
     },
     "metadata": {
      "image/png": {
       "height": 420,
       "width": 420
      }
     },
     "output_type": "display_data"
    }
   ],
   "source": [
    "fit <- rpart(Purchased~., data = train.data, method = 'class')\n",
    "rpart.plot(fit, extra = 100)\n",
    "rpart.plot(fit)"
   ]
  },
  {
   "cell_type": "markdown",
   "id": "5b6aa93e",
   "metadata": {
    "papermill": {
     "duration": 0.043386,
     "end_time": "2021-04-25T12:53:00.533364",
     "exception": false,
     "start_time": "2021-04-25T12:53:00.489978",
     "status": "completed"
    },
    "tags": []
   },
   "source": [
    "**Make a prediction :**"
   ]
  },
  {
   "cell_type": "markdown",
   "id": "1f17c472",
   "metadata": {
    "papermill": {
     "duration": 0.042585,
     "end_time": "2021-04-25T12:53:00.622854",
     "exception": false,
     "start_time": "2021-04-25T12:53:00.580269",
     "status": "completed"
    },
    "tags": []
   },
   "source": [
    "**Dimentions of test dataset :**"
   ]
  },
  {
   "cell_type": "code",
   "execution_count": 14,
   "id": "424d46c7",
   "metadata": {
    "execution": {
     "iopub.execute_input": "2021-04-25T12:53:00.716194Z",
     "iopub.status.busy": "2021-04-25T12:53:00.714623Z",
     "iopub.status.idle": "2021-04-25T12:53:00.731805Z",
     "shell.execute_reply": "2021-04-25T12:53:00.730309Z"
    },
    "papermill": {
     "duration": 0.065835,
     "end_time": "2021-04-25T12:53:00.731992",
     "exception": false,
     "start_time": "2021-04-25T12:53:00.666157",
     "status": "completed"
    },
    "tags": []
   },
   "outputs": [
    {
     "data": {
      "text/html": [
       "<style>\n",
       ".list-inline {list-style: none; margin:0; padding: 0}\n",
       ".list-inline>li {display: inline-block}\n",
       ".list-inline>li:not(:last-child)::after {content: \"\\00b7\"; padding: 0 .5ex}\n",
       "</style>\n",
       "<ol class=list-inline><li>80</li><li>5</li></ol>\n"
      ],
      "text/latex": [
       "\\begin{enumerate*}\n",
       "\\item 80\n",
       "\\item 5\n",
       "\\end{enumerate*}\n"
      ],
      "text/markdown": [
       "1. 80\n",
       "2. 5\n",
       "\n",
       "\n"
      ],
      "text/plain": [
       "[1] 80  5"
      ]
     },
     "metadata": {},
     "output_type": "display_data"
    }
   ],
   "source": [
    "dim(test.data)"
   ]
  },
  {
   "cell_type": "markdown",
   "id": "3a9c479f",
   "metadata": {
    "papermill": {
     "duration": 0.043813,
     "end_time": "2021-04-25T12:53:00.819923",
     "exception": false,
     "start_time": "2021-04-25T12:53:00.776110",
     "status": "completed"
    },
    "tags": []
   },
   "source": [
    "**Predicting :**"
   ]
  },
  {
   "cell_type": "code",
   "execution_count": 15,
   "id": "2bd02a0a",
   "metadata": {
    "execution": {
     "iopub.execute_input": "2021-04-25T12:53:00.914510Z",
     "iopub.status.busy": "2021-04-25T12:53:00.912648Z",
     "iopub.status.idle": "2021-04-25T12:53:00.935191Z",
     "shell.execute_reply": "2021-04-25T12:53:00.933729Z"
    },
    "papermill": {
     "duration": 0.071122,
     "end_time": "2021-04-25T12:53:00.935351",
     "exception": false,
     "start_time": "2021-04-25T12:53:00.864229",
     "status": "completed"
    },
    "tags": []
   },
   "outputs": [
    {
     "data": {
      "text/plain": [
       "   predict_unseen\n",
       "     0  1\n",
       "  0 53  5\n",
       "  1  1 21"
      ]
     },
     "metadata": {},
     "output_type": "display_data"
    }
   ],
   "source": [
    "predict_unseen <-predict(fit, test.data, type = 'class')\n",
    "table_mat <- table(test.data$Purchased, predict_unseen)\n",
    "table_mat"
   ]
  },
  {
   "cell_type": "markdown",
   "id": "6d51829c",
   "metadata": {
    "papermill": {
     "duration": 0.045181,
     "end_time": "2021-04-25T12:53:01.025120",
     "exception": false,
     "start_time": "2021-04-25T12:53:00.979939",
     "status": "completed"
    },
    "tags": []
   },
   "source": [
    "**INFERENCE :**\n",
    "The model correctly predicted 53 not_purchased result but it wrongly classified 5 purchased result. By analogy, the model misclassified only 1 result as purchased while they turned out to be not_purchased.\n"
   ]
  },
  {
   "cell_type": "markdown",
   "id": "6bc83a79",
   "metadata": {
    "papermill": {
     "duration": 0.046008,
     "end_time": "2021-04-25T12:53:01.115877",
     "exception": false,
     "start_time": "2021-04-25T12:53:01.069869",
     "status": "completed"
    },
    "tags": []
   },
   "source": [
    "**Compute the accuracy test from the confusion matrix :**"
   ]
  },
  {
   "cell_type": "code",
   "execution_count": 16,
   "id": "e578d37d",
   "metadata": {
    "execution": {
     "iopub.execute_input": "2021-04-25T12:53:01.211811Z",
     "iopub.status.busy": "2021-04-25T12:53:01.209787Z",
     "iopub.status.idle": "2021-04-25T12:53:01.230148Z",
     "shell.execute_reply": "2021-04-25T12:53:01.228422Z"
    },
    "papermill": {
     "duration": 0.069501,
     "end_time": "2021-04-25T12:53:01.230315",
     "exception": false,
     "start_time": "2021-04-25T12:53:01.160814",
     "status": "completed"
    },
    "tags": []
   },
   "outputs": [
    {
     "name": "stdout",
     "output_type": "stream",
     "text": [
      "[1] \"Accuracy for testdata 0.925\"\n"
     ]
    }
   ],
   "source": [
    "accuracy_Test <- sum(diag(table_mat)) / sum(table_mat)\n",
    "print(paste('Accuracy for testdata', accuracy_Test))"
   ]
  }
 ],
 "metadata": {
  "kernelspec": {
   "display_name": "R",
   "language": "R",
   "name": "ir"
  },
  "language_info": {
   "codemirror_mode": "r",
   "file_extension": ".r",
   "mimetype": "text/x-r-source",
   "name": "R",
   "pygments_lexer": "r",
   "version": "3.6.3"
  },
  "papermill": {
   "default_parameters": {},
   "duration": 11.728033,
   "end_time": "2021-04-25T12:53:01.386532",
   "environment_variables": {},
   "exception": null,
   "input_path": "__notebook__.ipynb",
   "output_path": "__notebook__.ipynb",
   "parameters": {},
   "start_time": "2021-04-25T12:52:49.658499",
   "version": "2.3.3"
  }
 },
 "nbformat": 4,
 "nbformat_minor": 5
}
